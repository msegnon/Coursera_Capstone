{
 "metadata": {
  "language_info": {
   "codemirror_mode": {
    "name": "ipython",
    "version": 3
   },
   "file_extension": ".py",
   "mimetype": "text/x-python",
   "name": "python",
   "nbconvert_exporter": "python",
   "pygments_lexer": "ipython3",
   "version": "3.7.7-final"
  },
  "orig_nbformat": 2,
  "kernelspec": {
   "name": "python_defaultSpec_1598040039825",
   "display_name": "Python 3.7.7 64-bit"
  }
 },
 "nbformat": 4,
 "nbformat_minor": 2,
 "cells": [
  {
   "cell_type": "markdown",
   "metadata": {},
   "source": [
    "# The Battle of the Neighborhoods - Week 1"
   ]
  },
  {
   "cell_type": "markdown",
   "metadata": {},
   "source": [
    "### Problem Background and Description:"
   ]
  },
  {
   "cell_type": "markdown",
   "metadata": {},
   "source": [
    "New York and Toronto are the financial capital of the USA and Canada resprectively. As such, they attrack many companies from different business sectors, amongst other banking, finance, retailing, world trade, tourism, real estate. The main purpose of this project is to use the Foursquare location data and regional clustering of venues information of New York and Toronto to find out what might be the best city that provides the optimum living standard and quality of life of the employees of a company that want to move its headquarter into those cities."
   ]
  },
  {
   "cell_type": "markdown",
   "metadata": {},
   "source": [
    "### Data Description "
   ]
  },
  {
   "cell_type": "markdown",
   "metadata": {},
   "source": [
    "For the analysis, datasets containing the postal codes, borough and neighbourhoods names have been retrieved from the respective wikipedia website pages. They have been combined with the Geographical coordinates of the neighbourhoods with the respective postal code. Information pertaining to the local venues are obtained by resorting to the Foursquare API. The venue data will provide vital information that can be used by the target audiance when opting for a city to move in their headquarters. In addition to Foursquare, various python packages will be used to create maps and\n",
    "machine learning models to further provide insights into our neighborhood battle project.\n",
    "\n",
    "***\n",
    "The used datasets can be found here:\n",
    "\n",
    "1. Toronto Neighborhoods - https://en.wikipedia.org/wiki/List_of_postal_codes_of_Canada:_M.\n",
    "1. Toronto Latitude and Longitude - http://cocl.us/Geospatial_data\n",
    "1. New York City neighborhoods - https://geo.nyu.edu/catalog/nyu_2451_34572\n",
    "1. New York City Latitude and Longitude = Python Geolibrar\n",
    "\n",
    "***\n",
    "As way of example, a screenshot of the wikipedia webside showing the postal codes, borough and neighbourhoods names of Toronto city\n",
    "![Wikipedia webside displaying list of Toronto's neighbourhoods and their respective postal code](Toronto.jpeg)\n",
    "\n",
    "By resorting to the web scraping functionality of Pandas the data can be cast into the appropriate format for the analysis\n",
    "![Scraped data from Wikipedia](Toronto1.png)\n",
    "\n",
    "After the above dataframe to the Geographical coordinates of the neighbourhoods, we obtained \n",
    "\n",
    "![Scraped data from Wikipedia](Toronto2.png)\n",
    "\n",
    "Upong using Foursquare API, we obtain the venue data \n",
    "![Scraped data from Wikipedia](venue.png)\n"
   ]
  },
  {
   "cell_type": "code",
   "execution_count": null,
   "metadata": {},
   "outputs": [],
   "source": []
  }
 ]
}